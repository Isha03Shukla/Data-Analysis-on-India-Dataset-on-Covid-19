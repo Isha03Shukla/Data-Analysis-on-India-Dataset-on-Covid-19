{
 "cells": [
  {
   "cell_type": "code",
   "execution_count": 15,
   "metadata": {},
   "outputs": [],
   "source": [
    "import pandas as pd\n",
    "import seaborn as sb\n",
    "import matplotlib.pyplot as plt"
   ]
  },
  {
   "cell_type": "code",
   "execution_count": 14,
   "metadata": {},
   "outputs": [],
   "source": [
    "data=pd.read_csv(r\"C:\\Users\\KIIT\\Downloads\\StatewiseTestingDetails.csv\") #Reading a csv file is called dataframe."
   ]
  },
  {
   "cell_type": "code",
   "execution_count": 3,
   "metadata": {},
   "outputs": [
    {
     "data": {
      "text/html": [
       "<div>\n",
       "<style scoped>\n",
       "    .dataframe tbody tr th:only-of-type {\n",
       "        vertical-align: middle;\n",
       "    }\n",
       "\n",
       "    .dataframe tbody tr th {\n",
       "        vertical-align: top;\n",
       "    }\n",
       "\n",
       "    .dataframe thead th {\n",
       "        text-align: right;\n",
       "    }\n",
       "</style>\n",
       "<table border=\"1\" class=\"dataframe\">\n",
       "  <thead>\n",
       "    <tr style=\"text-align: right;\">\n",
       "      <th></th>\n",
       "      <th>Date</th>\n",
       "      <th>State</th>\n",
       "      <th>TotalSamples</th>\n",
       "      <th>Negative</th>\n",
       "      <th>Positive</th>\n",
       "    </tr>\n",
       "  </thead>\n",
       "  <tbody>\n",
       "    <tr>\n",
       "      <th>0</th>\n",
       "      <td>2020-04-17</td>\n",
       "      <td>Andaman and Nicobar Islands</td>\n",
       "      <td>1403.0</td>\n",
       "      <td>1210</td>\n",
       "      <td>12.0</td>\n",
       "    </tr>\n",
       "    <tr>\n",
       "      <th>1</th>\n",
       "      <td>2020-04-24</td>\n",
       "      <td>Andaman and Nicobar Islands</td>\n",
       "      <td>2679.0</td>\n",
       "      <td>NaN</td>\n",
       "      <td>27.0</td>\n",
       "    </tr>\n",
       "    <tr>\n",
       "      <th>2</th>\n",
       "      <td>2020-04-27</td>\n",
       "      <td>Andaman and Nicobar Islands</td>\n",
       "      <td>2848.0</td>\n",
       "      <td>NaN</td>\n",
       "      <td>33.0</td>\n",
       "    </tr>\n",
       "    <tr>\n",
       "      <th>3</th>\n",
       "      <td>2020-05-01</td>\n",
       "      <td>Andaman and Nicobar Islands</td>\n",
       "      <td>3754.0</td>\n",
       "      <td>NaN</td>\n",
       "      <td>33.0</td>\n",
       "    </tr>\n",
       "    <tr>\n",
       "      <th>4</th>\n",
       "      <td>2020-05-16</td>\n",
       "      <td>Andaman and Nicobar Islands</td>\n",
       "      <td>6677.0</td>\n",
       "      <td>NaN</td>\n",
       "      <td>33.0</td>\n",
       "    </tr>\n",
       "    <tr>\n",
       "      <th>...</th>\n",
       "      <td>...</td>\n",
       "      <td>...</td>\n",
       "      <td>...</td>\n",
       "      <td>...</td>\n",
       "      <td>...</td>\n",
       "    </tr>\n",
       "    <tr>\n",
       "      <th>16331</th>\n",
       "      <td>2021-08-06</td>\n",
       "      <td>West Bengal</td>\n",
       "      <td>15999961.0</td>\n",
       "      <td>NaN</td>\n",
       "      <td>NaN</td>\n",
       "    </tr>\n",
       "    <tr>\n",
       "      <th>16332</th>\n",
       "      <td>2021-08-07</td>\n",
       "      <td>West Bengal</td>\n",
       "      <td>16045662.0</td>\n",
       "      <td>NaN</td>\n",
       "      <td>NaN</td>\n",
       "    </tr>\n",
       "    <tr>\n",
       "      <th>16333</th>\n",
       "      <td>2021-08-08</td>\n",
       "      <td>West Bengal</td>\n",
       "      <td>16092192.0</td>\n",
       "      <td>NaN</td>\n",
       "      <td>NaN</td>\n",
       "    </tr>\n",
       "    <tr>\n",
       "      <th>16334</th>\n",
       "      <td>2021-08-09</td>\n",
       "      <td>West Bengal</td>\n",
       "      <td>16122345.0</td>\n",
       "      <td>NaN</td>\n",
       "      <td>NaN</td>\n",
       "    </tr>\n",
       "    <tr>\n",
       "      <th>16335</th>\n",
       "      <td>2021-08-10</td>\n",
       "      <td>West Bengal</td>\n",
       "      <td>16162814.0</td>\n",
       "      <td>NaN</td>\n",
       "      <td>NaN</td>\n",
       "    </tr>\n",
       "  </tbody>\n",
       "</table>\n",
       "<p>16336 rows × 5 columns</p>\n",
       "</div>"
      ],
      "text/plain": [
       "             Date                        State  TotalSamples Negative  \\\n",
       "0      2020-04-17  Andaman and Nicobar Islands        1403.0     1210   \n",
       "1      2020-04-24  Andaman and Nicobar Islands        2679.0      NaN   \n",
       "2      2020-04-27  Andaman and Nicobar Islands        2848.0      NaN   \n",
       "3      2020-05-01  Andaman and Nicobar Islands        3754.0      NaN   \n",
       "4      2020-05-16  Andaman and Nicobar Islands        6677.0      NaN   \n",
       "...           ...                          ...           ...      ...   \n",
       "16331  2021-08-06                  West Bengal    15999961.0      NaN   \n",
       "16332  2021-08-07                  West Bengal    16045662.0      NaN   \n",
       "16333  2021-08-08                  West Bengal    16092192.0      NaN   \n",
       "16334  2021-08-09                  West Bengal    16122345.0      NaN   \n",
       "16335  2021-08-10                  West Bengal    16162814.0      NaN   \n",
       "\n",
       "       Positive  \n",
       "0          12.0  \n",
       "1          27.0  \n",
       "2          33.0  \n",
       "3          33.0  \n",
       "4          33.0  \n",
       "...         ...  \n",
       "16331       NaN  \n",
       "16332       NaN  \n",
       "16333       NaN  \n",
       "16334       NaN  \n",
       "16335       NaN  \n",
       "\n",
       "[16336 rows x 5 columns]"
      ]
     },
     "execution_count": 3,
     "metadata": {},
     "output_type": "execute_result"
    }
   ],
   "source": [
    "data"
   ]
  },
  {
   "cell_type": "code",
   "execution_count": 6,
   "metadata": {},
   "outputs": [
    {
     "data": {
      "text/plain": [
       "Index(['Date', 'State', 'TotalSamples', 'Negative', 'Positive'], dtype='object')"
      ]
     },
     "execution_count": 6,
     "metadata": {},
     "output_type": "execute_result"
    }
   ],
   "source": [
    "data.columns"
   ]
  },
  {
   "cell_type": "code",
   "execution_count": 5,
   "metadata": {},
   "outputs": [
    {
     "data": {
      "text/plain": [
       "Date            16336\n",
       "State           16336\n",
       "TotalSamples    16336\n",
       "Negative         6969\n",
       "Positive         5662\n",
       "dtype: int64"
      ]
     },
     "execution_count": 5,
     "metadata": {},
     "output_type": "execute_result"
    }
   ],
   "source": [
    "data.count() #It is representing non-null values."
   ]
  },
  {
   "cell_type": "code",
   "execution_count": 12,
   "metadata": {},
   "outputs": [
    {
     "data": {
      "text/html": [
       "<div>\n",
       "<style scoped>\n",
       "    .dataframe tbody tr th:only-of-type {\n",
       "        vertical-align: middle;\n",
       "    }\n",
       "\n",
       "    .dataframe tbody tr th {\n",
       "        vertical-align: top;\n",
       "    }\n",
       "\n",
       "    .dataframe thead th {\n",
       "        text-align: right;\n",
       "    }\n",
       "</style>\n",
       "<table border=\"1\" class=\"dataframe\">\n",
       "  <thead>\n",
       "    <tr style=\"text-align: right;\">\n",
       "      <th></th>\n",
       "      <th>Date</th>\n",
       "      <th>State</th>\n",
       "      <th>TotalSamples</th>\n",
       "      <th>Negative</th>\n",
       "      <th>Positive</th>\n",
       "    </tr>\n",
       "  </thead>\n",
       "  <tbody>\n",
       "    <tr>\n",
       "      <th>0</th>\n",
       "      <td>False</td>\n",
       "      <td>False</td>\n",
       "      <td>False</td>\n",
       "      <td>False</td>\n",
       "      <td>False</td>\n",
       "    </tr>\n",
       "    <tr>\n",
       "      <th>1</th>\n",
       "      <td>False</td>\n",
       "      <td>False</td>\n",
       "      <td>False</td>\n",
       "      <td>True</td>\n",
       "      <td>False</td>\n",
       "    </tr>\n",
       "    <tr>\n",
       "      <th>2</th>\n",
       "      <td>False</td>\n",
       "      <td>False</td>\n",
       "      <td>False</td>\n",
       "      <td>True</td>\n",
       "      <td>False</td>\n",
       "    </tr>\n",
       "    <tr>\n",
       "      <th>3</th>\n",
       "      <td>False</td>\n",
       "      <td>False</td>\n",
       "      <td>False</td>\n",
       "      <td>True</td>\n",
       "      <td>False</td>\n",
       "    </tr>\n",
       "    <tr>\n",
       "      <th>4</th>\n",
       "      <td>False</td>\n",
       "      <td>False</td>\n",
       "      <td>False</td>\n",
       "      <td>True</td>\n",
       "      <td>False</td>\n",
       "    </tr>\n",
       "    <tr>\n",
       "      <th>...</th>\n",
       "      <td>...</td>\n",
       "      <td>...</td>\n",
       "      <td>...</td>\n",
       "      <td>...</td>\n",
       "      <td>...</td>\n",
       "    </tr>\n",
       "    <tr>\n",
       "      <th>16331</th>\n",
       "      <td>False</td>\n",
       "      <td>False</td>\n",
       "      <td>False</td>\n",
       "      <td>True</td>\n",
       "      <td>True</td>\n",
       "    </tr>\n",
       "    <tr>\n",
       "      <th>16332</th>\n",
       "      <td>False</td>\n",
       "      <td>False</td>\n",
       "      <td>False</td>\n",
       "      <td>True</td>\n",
       "      <td>True</td>\n",
       "    </tr>\n",
       "    <tr>\n",
       "      <th>16333</th>\n",
       "      <td>False</td>\n",
       "      <td>False</td>\n",
       "      <td>False</td>\n",
       "      <td>True</td>\n",
       "      <td>True</td>\n",
       "    </tr>\n",
       "    <tr>\n",
       "      <th>16334</th>\n",
       "      <td>False</td>\n",
       "      <td>False</td>\n",
       "      <td>False</td>\n",
       "      <td>True</td>\n",
       "      <td>True</td>\n",
       "    </tr>\n",
       "    <tr>\n",
       "      <th>16335</th>\n",
       "      <td>False</td>\n",
       "      <td>False</td>\n",
       "      <td>False</td>\n",
       "      <td>True</td>\n",
       "      <td>True</td>\n",
       "    </tr>\n",
       "  </tbody>\n",
       "</table>\n",
       "<p>16336 rows × 5 columns</p>\n",
       "</div>"
      ],
      "text/plain": [
       "        Date  State  TotalSamples  Negative  Positive\n",
       "0      False  False         False     False     False\n",
       "1      False  False         False      True     False\n",
       "2      False  False         False      True     False\n",
       "3      False  False         False      True     False\n",
       "4      False  False         False      True     False\n",
       "...      ...    ...           ...       ...       ...\n",
       "16331  False  False         False      True      True\n",
       "16332  False  False         False      True      True\n",
       "16333  False  False         False      True      True\n",
       "16334  False  False         False      True      True\n",
       "16335  False  False         False      True      True\n",
       "\n",
       "[16336 rows x 5 columns]"
      ]
     },
     "execution_count": 12,
     "metadata": {},
     "output_type": "execute_result"
    }
   ],
   "source": [
    "data.isnull() #It shows result in boolean format where there is true means null value present there. "
   ]
  },
  {
   "cell_type": "code",
   "execution_count": 13,
   "metadata": {},
   "outputs": [
    {
     "data": {
      "text/plain": [
       "Date                0\n",
       "State               0\n",
       "TotalSamples        0\n",
       "Negative         9367\n",
       "Positive        10674\n",
       "dtype: int64"
      ]
     },
     "execution_count": 13,
     "metadata": {},
     "output_type": "execute_result"
    }
   ],
   "source": [
    "data.isnull().sum() #It is representing null values present in dataset.\n",
    "#Null values are the missing values present in the dataset.\n",
    "#Negative is showing 9367 null values\n",
    "#Positive is showing 10674 null values present in our dataset."
   ]
  },
  {
   "cell_type": "code",
   "execution_count": 18,
   "metadata": {
    "scrolled": true
   },
   "outputs": [
    {
     "data": {
      "image/png": "[encoded data removed]",
      "text/plain": [
       "<Figure size 432x288 with 2 Axes>"
      ]
     },
     "metadata": {
      "needs_background": "light"
     },
     "output_type": "display_data"
    }
   ],
   "source": [
    "sb.heatmap(data.isnull()) #plotting syntax for heatmap\n",
    "plt.show() #The cream color lines shows the null values are present there whereas black area shows no null values are presnt there. "
   ]
  },
  {
   "cell_type": "markdown",
   "metadata": {},
   "source": [
    "# Que 1)Show Number of positive cases in a day in each State with total samples taken on each day."
   ]
  },
  {
   "cell_type": "code",
   "execution_count": 19,
   "metadata": {},
   "outputs": [
    {
     "data": {
      "text/plain": [
       "Index(['Date', 'State', 'TotalSamples', 'Negative', 'Positive'], dtype='object')"
      ]
     },
     "execution_count": 19,
     "metadata": {},
     "output_type": "execute_result"
    }
   ],
   "source": [
    "data.columns"
   ]
  },
  {
   "cell_type": "code",
   "execution_count": 103,
   "metadata": {},
   "outputs": [
    {
     "data": {
      "text/html": [
       "<div>\n",
       "<style scoped>\n",
       "    .dataframe tbody tr th:only-of-type {\n",
       "        vertical-align: middle;\n",
       "    }\n",
       "\n",
       "    .dataframe tbody tr th {\n",
       "        vertical-align: top;\n",
       "    }\n",
       "\n",
       "    .dataframe thead th {\n",
       "        text-align: right;\n",
       "    }\n",
       "</style>\n",
       "<table border=\"1\" class=\"dataframe\">\n",
       "  <thead>\n",
       "    <tr style=\"text-align: right;\">\n",
       "      <th></th>\n",
       "      <th>Date</th>\n",
       "      <th>State</th>\n",
       "      <th>TotalSamples</th>\n",
       "      <th>Negative</th>\n",
       "      <th>Positive</th>\n",
       "    </tr>\n",
       "  </thead>\n",
       "  <tbody>\n",
       "    <tr>\n",
       "      <th>16333</th>\n",
       "      <td>2021-08-08</td>\n",
       "      <td>West Bengal</td>\n",
       "      <td>16092192.0</td>\n",
       "      <td>NaN</td>\n",
       "      <td>NaN</td>\n",
       "    </tr>\n",
       "    <tr>\n",
       "      <th>16334</th>\n",
       "      <td>2021-08-09</td>\n",
       "      <td>West Bengal</td>\n",
       "      <td>16122345.0</td>\n",
       "      <td>NaN</td>\n",
       "      <td>NaN</td>\n",
       "    </tr>\n",
       "    <tr>\n",
       "      <th>16335</th>\n",
       "      <td>2021-08-10</td>\n",
       "      <td>West Bengal</td>\n",
       "      <td>16162814.0</td>\n",
       "      <td>NaN</td>\n",
       "      <td>NaN</td>\n",
       "    </tr>\n",
       "  </tbody>\n",
       "</table>\n",
       "</div>"
      ],
      "text/plain": [
       "             Date        State  TotalSamples Negative  Positive\n",
       "16333  2021-08-08  West Bengal    16092192.0      NaN       NaN\n",
       "16334  2021-08-09  West Bengal    16122345.0      NaN       NaN\n",
       "16335  2021-08-10  West Bengal    16162814.0      NaN       NaN"
      ]
     },
     "execution_count": 103,
     "metadata": {},
     "output_type": "execute_result"
    }
   ],
   "source": [
    "data.tail(3)"
   ]
  },
  {
   "cell_type": "code",
   "execution_count": 47,
   "metadata": {},
   "outputs": [
    {
     "data": {
      "text/html": [
       "<div>\n",
       "<style scoped>\n",
       "    .dataframe tbody tr th:only-of-type {\n",
       "        vertical-align: middle;\n",
       "    }\n",
       "\n",
       "    .dataframe tbody tr th {\n",
       "        vertical-align: top;\n",
       "    }\n",
       "\n",
       "    .dataframe thead th {\n",
       "        text-align: right;\n",
       "    }\n",
       "</style>\n",
       "<table border=\"1\" class=\"dataframe\">\n",
       "  <thead>\n",
       "    <tr style=\"text-align: right;\">\n",
       "      <th></th>\n",
       "      <th></th>\n",
       "      <th></th>\n",
       "      <th>TotalSamples</th>\n",
       "    </tr>\n",
       "    <tr>\n",
       "      <th>State</th>\n",
       "      <th>Date</th>\n",
       "      <th>Positive</th>\n",
       "      <th></th>\n",
       "    </tr>\n",
       "  </thead>\n",
       "  <tbody>\n",
       "    <tr>\n",
       "      <th rowspan=\"50\" valign=\"top\">West Bengal</th>\n",
       "      <th>2020-06-30</th>\n",
       "      <th>18559.0</th>\n",
       "      <td>488038.0</td>\n",
       "    </tr>\n",
       "    <tr>\n",
       "      <th>2020-07-01</th>\n",
       "      <th>19170.0</th>\n",
       "      <td>497596.0</td>\n",
       "    </tr>\n",
       "    <tr>\n",
       "      <th>2020-07-02</th>\n",
       "      <th>19819.0</th>\n",
       "      <td>508001.0</td>\n",
       "    </tr>\n",
       "    <tr>\n",
       "      <th>2020-07-03</th>\n",
       "      <th>20488.0</th>\n",
       "      <td>519054.0</td>\n",
       "    </tr>\n",
       "    <tr>\n",
       "      <th>2020-07-04</th>\n",
       "      <th>21231.0</th>\n",
       "      <td>530072.0</td>\n",
       "    </tr>\n",
       "    <tr>\n",
       "      <th>2020-07-05</th>\n",
       "      <th>22126.0</th>\n",
       "      <td>541088.0</td>\n",
       "    </tr>\n",
       "    <tr>\n",
       "      <th>2020-07-06</th>\n",
       "      <th>22987.0</th>\n",
       "      <td>552007.0</td>\n",
       "    </tr>\n",
       "    <tr>\n",
       "      <th>2020-07-07</th>\n",
       "      <th>23837.0</th>\n",
       "      <td>562137.0</td>\n",
       "    </tr>\n",
       "    <tr>\n",
       "      <th>2020-07-08</th>\n",
       "      <th>24823.0</th>\n",
       "      <td>572523.0</td>\n",
       "    </tr>\n",
       "    <tr>\n",
       "      <th>2020-07-09</th>\n",
       "      <th>25911.0</th>\n",
       "      <td>583328.0</td>\n",
       "    </tr>\n",
       "    <tr>\n",
       "      <th>2020-07-10</th>\n",
       "      <th>27109.0</th>\n",
       "      <td>593967.0</td>\n",
       "    </tr>\n",
       "    <tr>\n",
       "      <th>2020-07-11</th>\n",
       "      <th>28453.0</th>\n",
       "      <td>605370.0</td>\n",
       "    </tr>\n",
       "    <tr>\n",
       "      <th>2020-07-12</th>\n",
       "      <th>30013.0</th>\n",
       "      <td>617079.0</td>\n",
       "    </tr>\n",
       "    <tr>\n",
       "      <th>2020-07-13</th>\n",
       "      <th>31448.0</th>\n",
       "      <td>627438.0</td>\n",
       "    </tr>\n",
       "    <tr>\n",
       "      <th>2020-07-14</th>\n",
       "      <th>32838.0</th>\n",
       "      <td>638540.0</td>\n",
       "    </tr>\n",
       "    <tr>\n",
       "      <th>2020-07-15</th>\n",
       "      <th>34427.0</th>\n",
       "      <td>649928.0</td>\n",
       "    </tr>\n",
       "    <tr>\n",
       "      <th>2020-07-16</th>\n",
       "      <th>36117.0</th>\n",
       "      <td>663108.0</td>\n",
       "    </tr>\n",
       "    <tr>\n",
       "      <th>2020-07-17</th>\n",
       "      <th>38011.0</th>\n",
       "      <td>676348.0</td>\n",
       "    </tr>\n",
       "    <tr>\n",
       "      <th>2020-07-18</th>\n",
       "      <th>40209.0</th>\n",
       "      <td>689813.0</td>\n",
       "    </tr>\n",
       "    <tr>\n",
       "      <th>2020-07-19</th>\n",
       "      <th>42487.0</th>\n",
       "      <td>703284.0</td>\n",
       "    </tr>\n",
       "    <tr>\n",
       "      <th>2020-07-20</th>\n",
       "      <th>44769.0</th>\n",
       "      <td>716365.0</td>\n",
       "    </tr>\n",
       "    <tr>\n",
       "      <th>2020-07-21</th>\n",
       "      <th>47030.0</th>\n",
       "      <td>729429.0</td>\n",
       "    </tr>\n",
       "    <tr>\n",
       "      <th>2020-07-22</th>\n",
       "      <th>49321.0</th>\n",
       "      <td>743469.0</td>\n",
       "    </tr>\n",
       "    <tr>\n",
       "      <th>2020-07-23</th>\n",
       "      <th>51757.0</th>\n",
       "      <td>758027.0</td>\n",
       "    </tr>\n",
       "    <tr>\n",
       "      <th>2020-07-24</th>\n",
       "      <th>53973.0</th>\n",
       "      <td>773512.0</td>\n",
       "    </tr>\n",
       "    <tr>\n",
       "      <th>2020-07-25</th>\n",
       "      <th>56377.0</th>\n",
       "      <td>789140.0</td>\n",
       "    </tr>\n",
       "    <tr>\n",
       "      <th>2020-07-26</th>\n",
       "      <th>58718.0</th>\n",
       "      <td>805185.0</td>\n",
       "    </tr>\n",
       "    <tr>\n",
       "      <th>2020-07-27</th>\n",
       "      <th>60830.0</th>\n",
       "      <td>822190.0</td>\n",
       "    </tr>\n",
       "    <tr>\n",
       "      <th>2020-07-28</th>\n",
       "      <th>62964.0</th>\n",
       "      <td>839211.0</td>\n",
       "    </tr>\n",
       "    <tr>\n",
       "      <th>2020-07-29</th>\n",
       "      <th>65258.0</th>\n",
       "      <td>856355.0</td>\n",
       "    </tr>\n",
       "    <tr>\n",
       "      <th>2020-07-30</th>\n",
       "      <th>67692.0</th>\n",
       "      <td>874397.0</td>\n",
       "    </tr>\n",
       "    <tr>\n",
       "      <th>2020-07-31</th>\n",
       "      <th>70188.0</th>\n",
       "      <td>893400.0</td>\n",
       "    </tr>\n",
       "    <tr>\n",
       "      <th>2020-08-01</th>\n",
       "      <th>72777.0</th>\n",
       "      <td>913465.0</td>\n",
       "    </tr>\n",
       "    <tr>\n",
       "      <th>2020-08-02</th>\n",
       "      <th>75516.0</th>\n",
       "      <td>934537.0</td>\n",
       "    </tr>\n",
       "    <tr>\n",
       "      <th>2020-08-03</th>\n",
       "      <th>78232.0</th>\n",
       "      <td>956659.0</td>\n",
       "    </tr>\n",
       "    <tr>\n",
       "      <th>2020-08-04</th>\n",
       "      <th>80984.0</th>\n",
       "      <td>978980.0</td>\n",
       "    </tr>\n",
       "    <tr>\n",
       "      <th>2020-08-05</th>\n",
       "      <th>83800.0</th>\n",
       "      <td>1003027.0</td>\n",
       "    </tr>\n",
       "    <tr>\n",
       "      <th>2020-08-06</th>\n",
       "      <th>86754.0</th>\n",
       "      <td>1028251.0</td>\n",
       "    </tr>\n",
       "    <tr>\n",
       "      <th>2020-08-07</th>\n",
       "      <th>89666.0</th>\n",
       "      <td>1054509.0</td>\n",
       "    </tr>\n",
       "    <tr>\n",
       "      <th>2020-08-08</th>\n",
       "      <th>92615.0</th>\n",
       "      <td>1079657.0</td>\n",
       "    </tr>\n",
       "    <tr>\n",
       "      <th>2020-08-09</th>\n",
       "      <th>95554.0</th>\n",
       "      <td>1105899.0</td>\n",
       "    </tr>\n",
       "    <tr>\n",
       "      <th>2020-08-10</th>\n",
       "      <th>98459.0</th>\n",
       "      <td>1132196.0</td>\n",
       "    </tr>\n",
       "    <tr>\n",
       "      <th>2020-08-13</th>\n",
       "      <th>107323.0</th>\n",
       "      <td>1216955.0</td>\n",
       "    </tr>\n",
       "    <tr>\n",
       "      <th>2020-08-14</th>\n",
       "      <th>110358.0</th>\n",
       "      <td>1248272.0</td>\n",
       "    </tr>\n",
       "    <tr>\n",
       "      <th>2020-08-15</th>\n",
       "      <th>113432.0</th>\n",
       "      <td>1282486.0</td>\n",
       "    </tr>\n",
       "    <tr>\n",
       "      <th>2020-08-16</th>\n",
       "      <th>116498.0</th>\n",
       "      <td>1314772.0</td>\n",
       "    </tr>\n",
       "    <tr>\n",
       "      <th>2020-08-17</th>\n",
       "      <th>119578.0</th>\n",
       "      <td>1347091.0</td>\n",
       "    </tr>\n",
       "    <tr>\n",
       "      <th>2020-08-18</th>\n",
       "      <th>122753.0</th>\n",
       "      <td>1382198.0</td>\n",
       "    </tr>\n",
       "    <tr>\n",
       "      <th>2020-08-21</th>\n",
       "      <th>132364.0</th>\n",
       "      <td>1487844.0</td>\n",
       "    </tr>\n",
       "    <tr>\n",
       "      <th>2020-08-22</th>\n",
       "      <th>135596.0</th>\n",
       "      <td>1524162.0</td>\n",
       "    </tr>\n",
       "  </tbody>\n",
       "</table>\n",
       "</div>"
      ],
      "text/plain": [
       "                                 TotalSamples\n",
       "State       Date       Positive              \n",
       "West Bengal 2020-06-30 18559.0       488038.0\n",
       "            2020-07-01 19170.0       497596.0\n",
       "            2020-07-02 19819.0       508001.0\n",
       "            2020-07-03 20488.0       519054.0\n",
       "            2020-07-04 21231.0       530072.0\n",
       "            2020-07-05 22126.0       541088.0\n",
       "            2020-07-06 22987.0       552007.0\n",
       "            2020-07-07 23837.0       562137.0\n",
       "            2020-07-08 24823.0       572523.0\n",
       "            2020-07-09 25911.0       583328.0\n",
       "            2020-07-10 27109.0       593967.0\n",
       "            2020-07-11 28453.0       605370.0\n",
       "            2020-07-12 30013.0       617079.0\n",
       "            2020-07-13 31448.0       627438.0\n",
       "            2020-07-14 32838.0       638540.0\n",
       "            2020-07-15 34427.0       649928.0\n",
       "            2020-07-16 36117.0       663108.0\n",
       "            2020-07-17 38011.0       676348.0\n",
       "            2020-07-18 40209.0       689813.0\n",
       "            2020-07-19 42487.0       703284.0\n",
       "            2020-07-20 44769.0       716365.0\n",
       "            2020-07-21 47030.0       729429.0\n",
       "            2020-07-22 49321.0       743469.0\n",
       "            2020-07-23 51757.0       758027.0\n",
       "            2020-07-24 53973.0       773512.0\n",
       "            2020-07-25 56377.0       789140.0\n",
       "            2020-07-26 58718.0       805185.0\n",
       "            2020-07-27 60830.0       822190.0\n",
       "            2020-07-28 62964.0       839211.0\n",
       "            2020-07-29 65258.0       856355.0\n",
       "            2020-07-30 67692.0       874397.0\n",
       "            2020-07-31 70188.0       893400.0\n",
       "            2020-08-01 72777.0       913465.0\n",
       "            2020-08-02 75516.0       934537.0\n",
       "            2020-08-03 78232.0       956659.0\n",
       "            2020-08-04 80984.0       978980.0\n",
       "            2020-08-05 83800.0      1003027.0\n",
       "            2020-08-06 86754.0      1028251.0\n",
       "            2020-08-07 89666.0      1054509.0\n",
       "            2020-08-08 92615.0      1079657.0\n",
       "            2020-08-09 95554.0      1105899.0\n",
       "            2020-08-10 98459.0      1132196.0\n",
       "            2020-08-13 107323.0     1216955.0\n",
       "            2020-08-14 110358.0     1248272.0\n",
       "            2020-08-15 113432.0     1282486.0\n",
       "            2020-08-16 116498.0     1314772.0\n",
       "            2020-08-17 119578.0     1347091.0\n",
       "            2020-08-18 122753.0     1382198.0\n",
       "            2020-08-21 132364.0     1487844.0\n",
       "            2020-08-22 135596.0     1524162.0"
      ]
     },
     "execution_count": 47,
     "metadata": {},
     "output_type": "execute_result"
    }
   ],
   "source": [
    "data.groupby(['State','Date','Positive']).sum().tail(50)"
   ]
  },
  {
   "cell_type": "markdown",
   "metadata": {},
   "source": [
    "# Que 2) Show all the Number of positive cases in each State."
   ]
  },
  {
   "cell_type": "code",
   "execution_count": 48,
   "metadata": {},
   "outputs": [
    {
     "data": {
      "text/plain": [
       "State\n",
       "Andaman and Nicobar Islands                  1763591.0\n",
       "Andhra Pradesh                               3859260.0\n",
       "Arunachal Pradesh                              51245.0\n",
       "Assam                                        2065991.0\n",
       "Bihar                                        1859345.0\n",
       "Chandigarh                                     59195.0\n",
       "Chhattisgarh                                  467857.0\n",
       "Dadra and Nagar Haveli and Daman and Diu      169010.0\n",
       "Delhi                                        6848173.0\n",
       "Goa                                           266181.0\n",
       "Gujarat                                      8009517.0\n",
       "Haryana                                      2830153.0\n",
       "Himachal Pradesh                              119494.0\n",
       "Jammu and Kashmir                             977615.0\n",
       "Jharkhand                                   51696495.0\n",
       "Karnataka                                    4701197.0\n",
       "Kerala                                      79723175.0\n",
       "Ladakh                                         89027.0\n",
       "Lakshadweep                                        0.0\n",
       "Madhya Pradesh                               9584080.0\n",
       "Maharashtra                                 96901583.0\n",
       "Manipur                                       101501.0\n",
       "Meghalaya                                      33904.0\n",
       "Mizoram                                        19785.0\n",
       "Nagaland                                       90682.0\n",
       "Odisha                                       2214458.0\n",
       "Puducherry                                   6287323.0\n",
       "Punjab                                        960287.0\n",
       "Rajasthan                                    2445076.0\n",
       "Sikkim                                         17644.0\n",
       "Tamil Nadu                                  12772604.0\n",
       "Telangana                                    3855373.0\n",
       "Tripura                                     12630766.0\n",
       "Uttar Pradesh                                2743971.0\n",
       "Uttarakhand                                   350257.0\n",
       "West Bengal                                  3487431.0\n",
       "Name: Positive, dtype: float64"
      ]
     },
     "execution_count": 48,
     "metadata": {},
     "output_type": "execute_result"
    }
   ],
   "source": [
    "data.groupby('State')['Positive'].sum()"
   ]
  },
  {
   "cell_type": "markdown",
   "metadata": {},
   "source": [
    "# Que 3) Show number of positive cases in descending order."
   ]
  },
  {
   "cell_type": "code",
   "execution_count": 49,
   "metadata": {},
   "outputs": [
    {
     "data": {
      "text/plain": [
       "State\n",
       "Maharashtra                                 96901583.0\n",
       "Kerala                                      79723175.0\n",
       "Jharkhand                                   51696495.0\n",
       "Tamil Nadu                                  12772604.0\n",
       "Tripura                                     12630766.0\n",
       "Madhya Pradesh                               9584080.0\n",
       "Gujarat                                      8009517.0\n",
       "Delhi                                        6848173.0\n",
       "Puducherry                                   6287323.0\n",
       "Karnataka                                    4701197.0\n",
       "Andhra Pradesh                               3859260.0\n",
       "Telangana                                    3855373.0\n",
       "West Bengal                                  3487431.0\n",
       "Haryana                                      2830153.0\n",
       "Uttar Pradesh                                2743971.0\n",
       "Rajasthan                                    2445076.0\n",
       "Odisha                                       2214458.0\n",
       "Assam                                        2065991.0\n",
       "Bihar                                        1859345.0\n",
       "Andaman and Nicobar Islands                  1763591.0\n",
       "Jammu and Kashmir                             977615.0\n",
       "Punjab                                        960287.0\n",
       "Chhattisgarh                                  467857.0\n",
       "Uttarakhand                                   350257.0\n",
       "Goa                                           266181.0\n",
       "Dadra and Nagar Haveli and Daman and Diu      169010.0\n",
       "Himachal Pradesh                              119494.0\n",
       "Manipur                                       101501.0\n",
       "Nagaland                                       90682.0\n",
       "Ladakh                                         89027.0\n",
       "Chandigarh                                     59195.0\n",
       "Arunachal Pradesh                              51245.0\n",
       "Meghalaya                                      33904.0\n",
       "Mizoram                                        19785.0\n",
       "Sikkim                                         17644.0\n",
       "Lakshadweep                                        0.0\n",
       "Name: Positive, dtype: float64"
      ]
     },
     "execution_count": 49,
     "metadata": {},
     "output_type": "execute_result"
    }
   ],
   "source": [
    "data.groupby('State')['Positive'].sum().sort_values(ascending=False)"
   ]
  },
  {
   "cell_type": "code",
   "execution_count": 50,
   "metadata": {},
   "outputs": [
    {
     "data": {
      "text/plain": [
       "Index(['Date', 'State', 'TotalSamples', 'Negative', 'Positive'], dtype='object')"
      ]
     },
     "execution_count": 50,
     "metadata": {},
     "output_type": "execute_result"
    }
   ],
   "source": [
    "data.columns"
   ]
  },
  {
   "cell_type": "markdown",
   "metadata": {},
   "source": [
    "# Que 3)In which State, maximum number of positive cases were recorded?"
   ]
  },
  {
   "cell_type": "code",
   "execution_count": 61,
   "metadata": {},
   "outputs": [
    {
     "data": {
      "text/plain": [
       "State\n",
       "Maharashtra    96901583.0\n",
       "Name: Positive, dtype: float64"
      ]
     },
     "execution_count": 61,
     "metadata": {},
     "output_type": "execute_result"
    }
   ],
   "source": [
    "data.groupby('State').Positive.sum().sort_values(ascending=False).head(1)"
   ]
  },
  {
   "cell_type": "markdown",
   "metadata": {},
   "source": [
    "# Que 4)In which top 15 States, minimum number of poitive cases were recorded?"
   ]
  },
  {
   "cell_type": "code",
   "execution_count": 62,
   "metadata": {},
   "outputs": [
    {
     "data": {
      "text/html": [
       "<div>\n",
       "<style scoped>\n",
       "    .dataframe tbody tr th:only-of-type {\n",
       "        vertical-align: middle;\n",
       "    }\n",
       "\n",
       "    .dataframe tbody tr th {\n",
       "        vertical-align: top;\n",
       "    }\n",
       "\n",
       "    .dataframe thead th {\n",
       "        text-align: right;\n",
       "    }\n",
       "</style>\n",
       "<table border=\"1\" class=\"dataframe\">\n",
       "  <thead>\n",
       "    <tr style=\"text-align: right;\">\n",
       "      <th></th>\n",
       "      <th>Date</th>\n",
       "      <th>State</th>\n",
       "      <th>TotalSamples</th>\n",
       "      <th>Negative</th>\n",
       "      <th>Positive</th>\n",
       "    </tr>\n",
       "  </thead>\n",
       "  <tbody>\n",
       "    <tr>\n",
       "      <th>0</th>\n",
       "      <td>2020-04-17</td>\n",
       "      <td>Andaman and Nicobar Islands</td>\n",
       "      <td>1403.0</td>\n",
       "      <td>1210</td>\n",
       "      <td>12.0</td>\n",
       "    </tr>\n",
       "    <tr>\n",
       "      <th>1</th>\n",
       "      <td>2020-04-24</td>\n",
       "      <td>Andaman and Nicobar Islands</td>\n",
       "      <td>2679.0</td>\n",
       "      <td>NaN</td>\n",
       "      <td>27.0</td>\n",
       "    </tr>\n",
       "    <tr>\n",
       "      <th>2</th>\n",
       "      <td>2020-04-27</td>\n",
       "      <td>Andaman and Nicobar Islands</td>\n",
       "      <td>2848.0</td>\n",
       "      <td>NaN</td>\n",
       "      <td>33.0</td>\n",
       "    </tr>\n",
       "    <tr>\n",
       "      <th>3</th>\n",
       "      <td>2020-05-01</td>\n",
       "      <td>Andaman and Nicobar Islands</td>\n",
       "      <td>3754.0</td>\n",
       "      <td>NaN</td>\n",
       "      <td>33.0</td>\n",
       "    </tr>\n",
       "    <tr>\n",
       "      <th>4</th>\n",
       "      <td>2020-05-16</td>\n",
       "      <td>Andaman and Nicobar Islands</td>\n",
       "      <td>6677.0</td>\n",
       "      <td>NaN</td>\n",
       "      <td>33.0</td>\n",
       "    </tr>\n",
       "    <tr>\n",
       "      <th>...</th>\n",
       "      <td>...</td>\n",
       "      <td>...</td>\n",
       "      <td>...</td>\n",
       "      <td>...</td>\n",
       "      <td>...</td>\n",
       "    </tr>\n",
       "    <tr>\n",
       "      <th>16331</th>\n",
       "      <td>2021-08-06</td>\n",
       "      <td>West Bengal</td>\n",
       "      <td>15999961.0</td>\n",
       "      <td>NaN</td>\n",
       "      <td>NaN</td>\n",
       "    </tr>\n",
       "    <tr>\n",
       "      <th>16332</th>\n",
       "      <td>2021-08-07</td>\n",
       "      <td>West Bengal</td>\n",
       "      <td>16045662.0</td>\n",
       "      <td>NaN</td>\n",
       "      <td>NaN</td>\n",
       "    </tr>\n",
       "    <tr>\n",
       "      <th>16333</th>\n",
       "      <td>2021-08-08</td>\n",
       "      <td>West Bengal</td>\n",
       "      <td>16092192.0</td>\n",
       "      <td>NaN</td>\n",
       "      <td>NaN</td>\n",
       "    </tr>\n",
       "    <tr>\n",
       "      <th>16334</th>\n",
       "      <td>2021-08-09</td>\n",
       "      <td>West Bengal</td>\n",
       "      <td>16122345.0</td>\n",
       "      <td>NaN</td>\n",
       "      <td>NaN</td>\n",
       "    </tr>\n",
       "    <tr>\n",
       "      <th>16335</th>\n",
       "      <td>2021-08-10</td>\n",
       "      <td>West Bengal</td>\n",
       "      <td>16162814.0</td>\n",
       "      <td>NaN</td>\n",
       "      <td>NaN</td>\n",
       "    </tr>\n",
       "  </tbody>\n",
       "</table>\n",
       "<p>16336 rows × 5 columns</p>\n",
       "</div>"
      ],
      "text/plain": [
       "             Date                        State  TotalSamples Negative  \\\n",
       "0      2020-04-17  Andaman and Nicobar Islands        1403.0     1210   \n",
       "1      2020-04-24  Andaman and Nicobar Islands        2679.0      NaN   \n",
       "2      2020-04-27  Andaman and Nicobar Islands        2848.0      NaN   \n",
       "3      2020-05-01  Andaman and Nicobar Islands        3754.0      NaN   \n",
       "4      2020-05-16  Andaman and Nicobar Islands        6677.0      NaN   \n",
       "...           ...                          ...           ...      ...   \n",
       "16331  2021-08-06                  West Bengal    15999961.0      NaN   \n",
       "16332  2021-08-07                  West Bengal    16045662.0      NaN   \n",
       "16333  2021-08-08                  West Bengal    16092192.0      NaN   \n",
       "16334  2021-08-09                  West Bengal    16122345.0      NaN   \n",
       "16335  2021-08-10                  West Bengal    16162814.0      NaN   \n",
       "\n",
       "       Positive  \n",
       "0          12.0  \n",
       "1          27.0  \n",
       "2          33.0  \n",
       "3          33.0  \n",
       "4          33.0  \n",
       "...         ...  \n",
       "16331       NaN  \n",
       "16332       NaN  \n",
       "16333       NaN  \n",
       "16334       NaN  \n",
       "16335       NaN  \n",
       "\n",
       "[16336 rows x 5 columns]"
      ]
     },
     "execution_count": 62,
     "metadata": {},
     "output_type": "execute_result"
    }
   ],
   "source": [
    "data"
   ]
  },
  {
   "cell_type": "code",
   "execution_count": 63,
   "metadata": {},
   "outputs": [
    {
     "data": {
      "text/plain": [
       "State\n",
       "Lakshadweep                                      0.0\n",
       "Sikkim                                       17644.0\n",
       "Mizoram                                      19785.0\n",
       "Meghalaya                                    33904.0\n",
       "Arunachal Pradesh                            51245.0\n",
       "Chandigarh                                   59195.0\n",
       "Ladakh                                       89027.0\n",
       "Nagaland                                     90682.0\n",
       "Manipur                                     101501.0\n",
       "Himachal Pradesh                            119494.0\n",
       "Dadra and Nagar Haveli and Daman and Diu    169010.0\n",
       "Goa                                         266181.0\n",
       "Uttarakhand                                 350257.0\n",
       "Chhattisgarh                                467857.0\n",
       "Punjab                                      960287.0\n",
       "Name: Positive, dtype: float64"
      ]
     },
     "execution_count": 63,
     "metadata": {},
     "output_type": "execute_result"
    }
   ],
   "source": [
    "data.groupby('State').Positive.sum().sort_values(ascending=True).head(15)"
   ]
  },
  {
   "cell_type": "markdown",
   "metadata": {},
   "source": [
    "# Que 5)Prediction the number of new cases each day from March 26th to April 30th when the country is under lockdown."
   ]
  },
  {
   "cell_type": "code",
   "execution_count": 64,
   "metadata": {},
   "outputs": [
    {
     "data": {
      "text/plain": [
       "Index(['Date', 'State', 'TotalSamples', 'Negative', 'Positive'], dtype='object')"
      ]
     },
     "execution_count": 64,
     "metadata": {},
     "output_type": "execute_result"
    }
   ],
   "source": [
    "data.columns"
   ]
  },
  {
   "cell_type": "code",
   "execution_count": 71,
   "metadata": {},
   "outputs": [
    {
     "data": {
      "text/plain": [
       "6842422.0"
      ]
     },
     "execution_count": 71,
     "metadata": {},
     "output_type": "execute_result"
    }
   ],
   "source": [
    "data[((data.Date >= '2021-03-26') & (data.Date<= '2021-04-30'))].Positive.sum()"
   ]
  },
  {
   "cell_type": "code",
   "execution_count": 102,
   "metadata": {},
   "outputs": [
    {
     "data": {
      "image/png": "[encoded data removed]",
      "text/plain": [
       "<Figure size 684x324 with 1 Axes>"
      ]
     },
     "metadata": {
      "needs_background": "light"
     },
     "output_type": "display_data"
    }
   ],
   "source": [
    "plt.rcParams[\"figure.figsize\"] = [9.50, 4.50]\n",
    "plt.rcParams[\"figure.autolayout\"] = True\n",
    "data.set_index('Date').plot()\n",
    "plt.show()"
   ]
  }
 ],
 "metadata": {
  "kernelspec": {
   "display_name": "Python 3",
   "language": "python",
   "name": "python3"
  },
  "language_info": {
   "codemirror_mode": {
    "name": "ipython",
    "version": 3
   },
   "file_extension": ".py",
   "mimetype": "text/x-python",
   "name": "python",
   "nbconvert_exporter": "python",
   "pygments_lexer": "ipython3",
   "version": "3.8.3"
  }
 },
 "nbformat": 4,
 "nbformat_minor": 4
}
